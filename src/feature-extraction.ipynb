{
 "cells": [
  {
   "cell_type": "code",
   "execution_count": 1,
   "metadata": {},
   "outputs": [],
   "source": [
    "import os\n",
    "def loadData(input_folder):\n",
    "    if not os.path.exists(input_folder):\n",
    "        return []\n",
    "    else:\n",
    "        return os.listdir(input_folder)\n",
    "input_folder = \"./storage/processed/\"\n",
    "data = loadData(input_folder)"
   ]
  },
  {
   "cell_type": "code",
   "execution_count": 2,
   "metadata": {},
   "outputs": [
    {
     "data": {
      "text/plain": [
       "['02c4ed9a-5c41-4c9f-aa08-a4333a5d0b3a.png',\n",
       " '0a50009f-7fdc-43e1-90d9-886f114dac45.png',\n",
       " '0d029717-507f-424c-9f18-b47a06b8e0f8.png',\n",
       " '10c725b4-c418-4aa7-a23f-c756b889aec9.png',\n",
       " '1a8ba103-0d7e-44b1-b973-24da9b8fa6e6.png',\n",
       " '1a9f6be5-2a59-4b2d-ab0f-d6b2635d34e0.png',\n",
       " '1bf88658-254b-4c12-86d7-1e1b83155e68.png',\n",
       " '1c85540c-fae3-49c2-bccf-f60d2a1678b2.png',\n",
       " '291d1dee-54f8-455d-bb0c-348e3a7343c9.png',\n",
       " '2bca563e-97c5-4e1e-933f-aae9c4903d89.png',\n",
       " '2f47312b-a951-4db2-b230-5107db4b744c.png',\n",
       " '31ab1cb1-7181-40c2-a67e-967ab867f34d.png',\n",
       " '336e8cf0-7539-461e-adea-7b0b9e9d690a.png',\n",
       " '34091bcd-38e4-474f-be08-43537eef0d02.png',\n",
       " '34a4292b-b9ec-4077-ad6e-6e9c18942352.png',\n",
       " '35d48695-7e3a-4caa-a88a-a636dc82c7a7.png',\n",
       " '393f844c-778b-49b3-ac2b-6f505b446fcf.png',\n",
       " '397e590e-609e-4b4b-adcb-8e5823b5976f.png',\n",
       " '3e191715-9b86-434a-a9d2-45c50f04bb99.png',\n",
       " '3e7159f8-747b-4d5e-8e48-465a768ad079.png',\n",
       " '446f81f4-66f6-4a6a-9a90-2ebde89d72ed.png',\n",
       " '4743dd64-99a9-4209-961d-565751ffcbfb.png',\n",
       " '48cbd90a-a175-454a-9a20-4c5a35c68070.png',\n",
       " '4ce51974-7821-4c43-9ac7-420f020af367.png',\n",
       " '53b02be5-e8b8-4113-9b66-1b647ab4c770.png',\n",
       " '561f1a93-442e-4e92-b0d2-31f741a32498.png',\n",
       " '5a8b6f95-ff24-4876-b1b5-4ce089bd8f78.png',\n",
       " '5bde0a59-bbed-4d13-bb18-103b0a043054.png',\n",
       " '5d976a1a-584d-423f-bba3-6defd002d299.png',\n",
       " '60ba8762-32c5-4b98-b96c-0b5e7e539dbd.png',\n",
       " '63e6213d-ff86-4a4c-9598-4a46254403d4.png',\n",
       " '6a405699-3572-4e23-bf61-83c3227a36fb.png',\n",
       " '6a7fb8be-2d81-42e0-b958-f265bc8387ee.png',\n",
       " '6e47c3b0-c63c-41a6-9b1e-bd0f89299be6.png',\n",
       " '6f2ebf32-97c8-4800-b963-9dc1d8860b3b.png',\n",
       " '7018acd5-d820-43dc-bef1-80dc0bf32f12.png',\n",
       " '7498b97d-62ad-4724-9db8-46fb458c57ff.png',\n",
       " '74d32169-744f-49cf-ab5e-5a049c608d7b.png',\n",
       " '76b33e61-2151-49ff-9b72-d29d17c63424.png',\n",
       " '76f67288-0ebf-4f15-a09d-0fae214a777d.png',\n",
       " '79014ef9-a5fb-47bf-a61e-8793e0a7bcb2.png',\n",
       " '799a2505-d63b-4389-82ab-379534f30cd6.png',\n",
       " '7d1b961c-2758-4ce5-b8c7-467d070aecc0.png',\n",
       " '7f51358c-40de-42ce-bb0f-dffd0a6c757e.png',\n",
       " '81d66672-d034-4ad3-afad-ee4ce4e2d3e4.png',\n",
       " '82724af7-41bb-43f9-bd07-3b4998a91450.png',\n",
       " '82c9fd1b-d31b-4736-bfb1-c72bc0190ce1.png',\n",
       " '88d52ed2-d665-48e8-be65-563150e342a8.png',\n",
       " '8c188560-6b8c-4caf-820d-16e19251c9eb.png',\n",
       " '8ea32b2e-52ce-4445-ab10-2bde4c0b740f.png',\n",
       " '903bd126-8366-4a73-aeb3-762ba32d1f3c.png',\n",
       " '90903fef-5c69-4ed2-8338-9a849f04ae8f.png',\n",
       " '9184567b-ebc7-43eb-8619-718dc8d0e292.png',\n",
       " '995d1a7a-58e4-4426-8cc2-f9b8e6c8a7b2.png',\n",
       " '9d04cce3-238a-4dce-9b5d-fa0901522d3c.png',\n",
       " '9d624ca7-6d4d-4d37-b841-c0a66827fb1c.png',\n",
       " '9f790610-ff21-4f5e-be21-b7b4f0e5a00c.png',\n",
       " 'a01f6868-11cb-47fb-af91-1284e66a2a7c.png',\n",
       " 'a19141ba-c596-44ef-b04c-fb7c5cc75cc0.png',\n",
       " 'a28a26d7-6833-4fe3-b660-c19627f62cbc.png',\n",
       " 'a42fe6b0-e5fd-4401-a30f-df137fdbbaf3.png',\n",
       " 'a51fa0a9-9c7d-4d9a-9864-c81df09f57b2.png',\n",
       " 'a68accf0-32d5-453a-a55a-e938fceccba5.png',\n",
       " 'a764c521-3579-49a0-a7c3-cef2f6dc6f70.png',\n",
       " 'b0654052-1320-407a-b6f6-78958bc77c16.png',\n",
       " 'b0aeddb6-7fbf-4d91-96a7-54e39a6edfd6.png',\n",
       " 'b15ee8a7-97de-48a0-ba66-c5b37f5e3ed0.png',\n",
       " 'b4a4e9c1-3312-47dc-aa6a-65be12ab53c7.png',\n",
       " 'b5c58a8e-41b4-476c-888d-ed7f3efcb08d.png',\n",
       " 'b71d8f38-b8df-4da8-ab81-1e11fd7f5819.png',\n",
       " 'c003617d-ff26-4652-8690-c1b5c9dfd03c.png',\n",
       " 'c2e76369-60b1-4267-ab93-7fc35462c196.png',\n",
       " 'c2ece620-27d9-4148-a0eb-2e7a5df490d6.png',\n",
       " 'c3165247-4e39-453c-90a8-172b976f8b6b.png',\n",
       " 'c9b1b903-e1d8-46e2-aae6-1f27dc66b2cf.png',\n",
       " 'ca13347d-b34e-461f-969b-7327a0de5244.png',\n",
       " 'cbc0cdb9-a92a-4972-8c33-73b476b5ba95.png',\n",
       " 'ceb23874-28a7-4ff5-8642-06347a23147f.png',\n",
       " 'de68a03a-150e-4275-89cf-1a16f54d4291.png',\n",
       " 'e0395260-ea80-46a4-bd1c-e5ae4b97cbf9.png',\n",
       " 'e079c268-31c3-4d80-bc55-24cb26223dc6.png',\n",
       " 'e08a5be0-6a7e-4f41-88de-c90733bd8089.png',\n",
       " 'e1866396-6985-47e8-873a-930df910925a.png',\n",
       " 'e2ab4128-226e-4101-8528-ff78d236a2b4.png',\n",
       " 'e3de21f5-1c78-49d5-874e-1ed38b16d6a8.png',\n",
       " 'e5edcf29-5ca2-474c-af53-6a70a8abbb6a.png',\n",
       " 'e79aac41-84fb-4386-a401-b54b21299422.png',\n",
       " 'ed350278-8fee-4b7e-ab56-fb311b7a5b62.png',\n",
       " 'edc15156-8bbf-4099-89ea-6f93763fba07.png',\n",
       " 'ee32c2b3-aaac-4f8b-9d55-f71fd8e3834f.png',\n",
       " 'ef9a273e-8fc3-4c42-9dc9-2852c560ae4e.png',\n",
       " 'f1dec141-98ea-4554-8d6a-62b3af2d58e0.png',\n",
       " 'f2ac277a-1ae3-4443-98f3-7ddedaa174e8.png',\n",
       " 'f342f50c-174f-4aa4-95a9-659b7ff12c30.png',\n",
       " 'f9c2efc8-181d-4d8e-b176-754cc800d82a.png',\n",
       " 'fb333904-bb94-4ea6-9bae-e64c3ebcfb50.png',\n",
       " 'fbe8e255-9030-4d44-94f1-5b4d9b17c293.png',\n",
       " 'fdf3a33c-3318-4273-a90f-0d1e6016f442.png',\n",
       " 'fe255ec7-a70b-4a82-ba91-3e357d6431aa.png',\n",
       " 'ff8e9ca9-b03b-47a4-af7b-82b118ea4754.png']"
      ]
     },
     "execution_count": 2,
     "metadata": {},
     "output_type": "execute_result"
    }
   ],
   "source": [
    "data"
   ]
  },
  {
   "cell_type": "code",
   "execution_count": 3,
   "metadata": {},
   "outputs": [],
   "source": [
    "from base64 import b64decode\n",
    "import cv2\n",
    "import numpy as np\n",
    "import matplotlib.pyplot as plt\n",
    "\n",
    "def base(sample):\n",
    "    image = cv2.imread(os.path.join(input_folder, sample))\n",
    "    return image\n",
    "    "
   ]
  },
  {
   "cell_type": "code",
   "execution_count": 4,
   "metadata": {},
   "outputs": [],
   "source": [
    "def convert_image_rgb_to_gray(sample):\n",
    "  image = cv2.imread(os.path.join(input_folder, sample))\n",
    "  image = cv2.cvtColor(image, cv2.COLOR_BGR2GRAY)\n",
    "  return image\n",
    "\n",
    "# tmp = convert_image_rgb_to_gray(data[1])\n",
    "# plt.imshow(tmp, cmap='gray')"
   ]
  },
  {
   "cell_type": "code",
   "execution_count": 5,
   "metadata": {},
   "outputs": [],
   "source": [
    "from skimage import feature\n",
    "def hog_feature(gray_img):\n",
    "  hog_feat, hog_image = feature.hog(\n",
    "        gray_img,\n",
    "        orientations=9,\n",
    "        pixels_per_cell=(8, 8),\n",
    "        cells_per_block=(2, 2),\n",
    "        block_norm='L2',\n",
    "        visualize=True\n",
    "    )\n",
    "  return hog_feat\n",
    "\n",
    "def get_vector_rbg(image, bins=32):\n",
    "    red = cv2.calcHist(\n",
    "        [image], [2], None, [bins], [0, 256]\n",
    "    )\n",
    "    green = cv2.calcHist(\n",
    "        [image], [1], None, [bins], [0, 256]\n",
    "    )\n",
    "    blue = cv2.calcHist(\n",
    "        [image], [0], None, [bins], [0, 256]\n",
    "    )\n",
    "    vector = np.concatenate([red, green, blue], axis=0)\n",
    "    vector = vector.reshape(-1)\n",
    "    return vector"
   ]
  },
  {
   "cell_type": "code",
   "execution_count": 6,
   "metadata": {},
   "outputs": [],
   "source": [
    "def feature_extraction(image, gray_image):\n",
    "  color_histogram = list(get_vector_rbg(image))\n",
    "  hog=hog_feature(np.array(gray_image))\n",
    "  hog = list(hog.flatten())\n",
    "  return color_histogram + hog\n",
    "  # return np.concatenate([color_histogram, hog])\n"
   ]
  },
  {
   "cell_type": "code",
   "execution_count": 7,
   "metadata": {},
   "outputs": [],
   "source": [
    "features = []\n",
    "for sample in data:\n",
    "    image = base(sample)\n",
    "    gray_image = convert_image_rgb_to_gray(sample)\n",
    "    feature_extrac = feature_extraction(image, gray_image)\n",
    "    features.append((feature_extrac, sample))\n",
    "\n"
   ]
  },
  {
   "cell_type": "code",
   "execution_count": 8,
   "metadata": {},
   "outputs": [],
   "source": [
    "np.save('./feature/feature.npy', np.array(features, dtype=object))"
   ]
  }
 ],
 "metadata": {
  "kernelspec": {
   "display_name": "Python 3",
   "language": "python",
   "name": "python3"
  },
  "language_info": {
   "codemirror_mode": {
    "name": "ipython",
    "version": 3
   },
   "file_extension": ".py",
   "mimetype": "text/x-python",
   "name": "python",
   "nbconvert_exporter": "python",
   "pygments_lexer": "ipython3",
   "version": "3.12.3"
  }
 },
 "nbformat": 4,
 "nbformat_minor": 2
}
